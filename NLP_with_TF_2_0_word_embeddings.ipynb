{
  "nbformat": 4,
  "nbformat_minor": 0,
  "metadata": {
    "colab": {
      "name": "NLP_with_TF_2.0_word_embeddings.ipynb",
      "provenance": [],
      "toc_visible": true,
      "authorship_tag": "ABX9TyM/0ppi1JvWz2U44nFtTP+s",
      "include_colab_link": true
    },
    "kernelspec": {
      "name": "python3",
      "display_name": "Python 3"
    },
    "accelerator": "TPU"
  },
  "cells": [
    {
      "cell_type": "markdown",
      "metadata": {
        "id": "view-in-github",
        "colab_type": "text"
      },
      "source": [
        "<a href=\"https://colab.research.google.com/github/stefan-stein/NLP_with_TF_2.0/blob/master/NLP_with_TF_2_0_word_embeddings.ipynb\" target=\"_parent\"><img src=\"https://colab.research.google.com/assets/colab-badge.svg\" alt=\"Open In Colab\"/></a>"
      ]
    },
    {
      "cell_type": "markdown",
      "metadata": {
        "id": "cpKa5_53UTFB",
        "colab_type": "text"
      },
      "source": [
        "These are my notes for the first part of the \"Natural Language Processing with Tensorflow  2 - Beginner's course\" that can be found [here](https://www.youtube.com/watch?v=B2q5cRJvqI8). This course consists of three parts which in turn are based on the corresponding official tensorflow tutorials. The first part deals with word embeddings and is based on [this](https://www.tensorflow.org/tutorials/text/word_embeddings) tutorial."
      ]
    },
    {
      "cell_type": "markdown",
      "metadata": {
        "id": "uVj9uxowNrlu",
        "colab_type": "text"
      },
      "source": [
        "# Word Embeddings\n",
        "\n",
        "Colab currently still imports tensorflow 1.x by default, so we need to select version 2.x explicitly."
      ]
    },
    {
      "cell_type": "code",
      "metadata": {
        "id": "T1UGUcLET4ho",
        "colab_type": "code",
        "colab": {
          "base_uri": "https://localhost:8080/",
          "height": 34
        },
        "outputId": "70eac0b7-0ef2-4646-d024-990ed80cfbf7"
      },
      "source": [
        "import io\n",
        "import matplotlib.pyplot as plt\n",
        "# Make sure we are importing TF 2.x\n",
        "%tensorflow_version 2.x\n",
        "import tensorflow as tf\n",
        "from tensorflow import keras\n",
        "from tensorflow.keras import layers\n",
        "import tensorflow_datasets as tfds"
      ],
      "execution_count": 1,
      "outputs": [
        {
          "output_type": "stream",
          "text": [
            "TensorFlow 2.x selected.\n"
          ],
          "name": "stdout"
        }
      ]
    },
    {
      "cell_type": "code",
      "metadata": {
        "id": "SslIGj35X4xc",
        "colab_type": "code",
        "outputId": "9470e3ef-427b-4f1b-c547-0b5544d9ef3e",
        "colab": {
          "base_uri": "https://localhost:8080/",
          "height": 34
        }
      },
      "source": [
        "print(tf.__version__)"
      ],
      "execution_count": 2,
      "outputs": [
        {
          "output_type": "stream",
          "text": [
            "2.1.0\n"
          ],
          "name": "stdout"
        }
      ]
    },
    {
      "cell_type": "markdown",
      "metadata": {
        "id": "fDP-OJnlaxVX",
        "colab_type": "text"
      },
      "source": [
        "We are going to analyse the IMDB moview review dataset. From the TensorFlow datasets [website](https://www.tensorflow.org/datasets/catalog/imdb_reviews#imdb_reviewssubwords8k):\n",
        "> Large Movie Review Dataset. This is a dataset for binary sentiment classification containing substantially more data than previous benchmark datasets. We provide a set of 25,000 highly polar movie reviews for training, and 25,000 for testing.\n",
        "\n",
        "We import the 'subwords8k' version, which is to say we use a vocabulary size of 8k. The other options passed to the `tfds.load()` function are `as.supervised=True`, meaning we import the data with corresponding binary lable (good review/ bad review).\n",
        "\n",
        "After downloading the data, we create training and testing batches.\n",
        "Reviews are not all of the same length. Hence, we find the longest review and add padding to all other reviews to make all reviews of the same lenght. Using `None` in `padded_shapes` means that we are padding up to the maximum review length. See documentation of [`padded_batch`](https://www.tensorflow.org/api_docs/python/tf/data/Dataset#padded_batch).\n",
        "\n",
        "We wrap all of that into one clean function."
      ]
    },
    {
      "cell_type": "code",
      "metadata": {
        "id": "Jr2OIOt3Yw0D",
        "colab_type": "code",
        "colab": {}
      },
      "source": [
        "def get_batch_data():\n",
        "  (train_data, test_data), info = tfds.load('imdb_reviews/subwords8k',\n",
        "                                          split = (tfds.Split.TRAIN, tfds.Split.TEST),\n",
        "                                          with_info=True, as_supervised=True)\n",
        "  encoder = info.features['text'].encoder\n",
        "  padded_shapes = ([None], ())\n",
        "  # shuffle data, use batch size of 10\n",
        "  train_batches = train_data.shuffle(1000).padded_batch(10, padded_shapes=padded_shapes)\n",
        "  test_batches = test_data.shuffle(1000).padded_batch(10, padded_shapes=padded_shapes)\n",
        "\n",
        "  return train_batches, test_batches, encoder"
      ],
      "execution_count": 0,
      "outputs": []
    },
    {
      "cell_type": "markdown",
      "metadata": {
        "id": "BVZ2GAPcPAqo",
        "colab_type": "text"
      },
      "source": [
        "Next, we build a function to create our model. It takes two arguments, an encoder and the dimension of the latent embedding space, which by default we set to `16`. As is typical with Keras, it is a sequential model. Our first layer is an embedding layer, using the `vocab_size` attribute of the `encoder` object defined above. The last layer is a dense layer with output dimension 1 and `'sigmoid'` activation function, i.e. it gives out a number between zero and one corresponding to the probability that the review is positive."
      ]
    },
    {
      "cell_type": "code",
      "metadata": {
        "id": "SJwDNAuZOmax",
        "colab_type": "code",
        "colab": {}
      },
      "source": [
        "def get_model(encoder, embedding_dim=16):\n",
        "  model = keras.Sequential([\n",
        "                    layers.Embedding(encoder.vocab_size, embedding_dim, mask_zero=True),\n",
        "                    layers.GlobalAveragePooling1D(),\n",
        "                    layers.Dense(1, activation='sigmoid')\n",
        "  ])\n",
        "\n",
        "  model.compile(optimizer='adam', loss='binary_crossentropy', metrics=['accuracy'])\n",
        "\n",
        "  return model"
      ],
      "execution_count": 0,
      "outputs": []
    },
    {
      "cell_type": "markdown",
      "metadata": {
        "id": "8H7Y2VMmPk5x",
        "colab_type": "text"
      },
      "source": [
        "Next, we create a function to plot the training progress over time. It takes the training `history` of our model as argument and returns a plot showing the training loss and validation loss by epoch."
      ]
    },
    {
      "cell_type": "code",
      "metadata": {
        "id": "wA6212HzPUT-",
        "colab_type": "code",
        "colab": {}
      },
      "source": [
        "def plot_history(history):\n",
        "  history_dict = history.history\n",
        "  acc = history_dict['accuracy']\n",
        "  val_acc = history_dict['val_accuracy']\n",
        "  epochs = range(1, len(acc) + 1)\n",
        "\n",
        "  plt.figure(figsize=(12,9))\n",
        "  # blue dots\n",
        "  plt.plot(epochs, acc, 'bo', label = 'Training acc')\n",
        "  # just blue line\n",
        "  plt.plot(epochs, val_acc, 'b', label='Validation acc')\n",
        "  plt.title('Training and validation accuracy')\n",
        "  plt.xlabel('Epochs')\n",
        "  plt.ylabel('Accuracy')\n",
        "  plt.legend(loc='lower right')\n",
        "  plt.ylim((0.5,1))\n",
        "  plt.show()"
      ],
      "execution_count": 0,
      "outputs": []
    },
    {
      "cell_type": "markdown",
      "metadata": {
        "id": "9MpX4l9YQW-l",
        "colab_type": "text"
      },
      "source": [
        "Finally, we want to have a function that allows us to download the learned embeddings, which we then can visualize using the [embedding projector](https://projector.tensorflow.org/)."
      ]
    },
    {
      "cell_type": "code",
      "metadata": {
        "id": "wMTg_NthRTxb",
        "colab_type": "code",
        "colab": {}
      },
      "source": [
        "def retrieve_embeddings(model, encoder):\n",
        "  out_vectors = io.open('vecs.tsv', 'w', encoding='utf-8')\n",
        "  out_metadata = io.open('meta.tsv', 'w', encoding='utf-8')\n",
        "  # 0th layer is the embedding layer and we retrieve its weights,\n",
        "  # get_weights returns list of length one, so use [0] to get actual content\n",
        "  weights = model.layers[0].get_weights()[0]\n",
        "\n",
        "  for num, word in enumerate(encoder.subwords):\n",
        "    # we take +1 here, because 0 is not a word and only used for padding\n",
        "    vec = weights[num+1]\n",
        "    out_metadata.write(word + '\\n')\n",
        "    out_vectors.write('\\t'.join([str(x) for x in vec]) + '\\n')\n",
        "  out_vectors.close()\n",
        "  out_metadata.close()"
      ],
      "execution_count": 0,
      "outputs": []
    },
    {
      "cell_type": "markdown",
      "metadata": {
        "id": "Fux7m5RUQksx",
        "colab_type": "text"
      },
      "source": [
        "With all of this set up, let's give it a try. Get the data first."
      ]
    },
    {
      "cell_type": "code",
      "metadata": {
        "id": "ZeCuaVMvQO1r",
        "colab_type": "code",
        "colab": {}
      },
      "source": [
        "train_batches, test_batches, encoder = get_batch_data()"
      ],
      "execution_count": 0,
      "outputs": []
    },
    {
      "cell_type": "markdown",
      "metadata": {
        "id": "lzif4svsOQUp",
        "colab_type": "text"
      },
      "source": [
        "Let's take a look what we actually just downloaded."
      ]
    },
    {
      "cell_type": "code",
      "metadata": {
        "id": "JTWeIxWSOPes",
        "colab_type": "code",
        "colab": {
          "base_uri": "https://localhost:8080/",
          "height": 357
        },
        "outputId": "e67dc9ac-11f0-4974-c648-14c8d8a25d04"
      },
      "source": [
        "encoder.subwords[:20]"
      ],
      "execution_count": 8,
      "outputs": [
        {
          "output_type": "execute_result",
          "data": {
            "text/plain": [
              "['the_',\n",
              " ', ',\n",
              " '. ',\n",
              " 'a_',\n",
              " 'and_',\n",
              " 'of_',\n",
              " 'to_',\n",
              " 's_',\n",
              " 'is_',\n",
              " 'br',\n",
              " 'in_',\n",
              " 'I_',\n",
              " 'that_',\n",
              " 'this_',\n",
              " 'it_',\n",
              " ' /><',\n",
              " ' />',\n",
              " 'was_',\n",
              " 'The_',\n",
              " 'as_']"
            ]
          },
          "metadata": {
            "tags": []
          },
          "execution_count": 8
        }
      ]
    },
    {
      "cell_type": "code",
      "metadata": {
        "id": "9gCtGHOLOUe7",
        "colab_type": "code",
        "colab": {
          "base_uri": "https://localhost:8080/",
          "height": 34
        },
        "outputId": "b0433cf5-0929-43cf-e5a9-4722dc441d19"
      },
      "source": [
        "# number of words in our vocabulary\n",
        "print(encoder.vocab_size)"
      ],
      "execution_count": 9,
      "outputs": [
        {
          "output_type": "stream",
          "text": [
            "8185\n"
          ],
          "name": "stdout"
        }
      ]
    },
    {
      "cell_type": "markdown",
      "metadata": {
        "id": "mCfN4dmGOegr",
        "colab_type": "text"
      },
      "source": [
        "Alright, vocabulary size is around 8k, as it should be. Let's build the actual model next."
      ]
    },
    {
      "cell_type": "code",
      "metadata": {
        "id": "K_dLI56OOdve",
        "colab_type": "code",
        "colab": {}
      },
      "source": [
        "model = get_model(encoder)"
      ],
      "execution_count": 0,
      "outputs": []
    },
    {
      "cell_type": "code",
      "metadata": {
        "id": "yFKi41wFOoBm",
        "colab_type": "code",
        "colab": {
          "base_uri": "https://localhost:8080/",
          "height": 255
        },
        "outputId": "90c2c211-ee41-472d-fa32-e1815649ffbb"
      },
      "source": [
        "model.summary()"
      ],
      "execution_count": 11,
      "outputs": [
        {
          "output_type": "stream",
          "text": [
            "Model: \"sequential\"\n",
            "_________________________________________________________________\n",
            "Layer (type)                 Output Shape              Param #   \n",
            "=================================================================\n",
            "embedding (Embedding)        (None, None, 16)          130960    \n",
            "_________________________________________________________________\n",
            "global_average_pooling1d (Gl (None, 16)                0         \n",
            "_________________________________________________________________\n",
            "dense (Dense)                (None, 1)                 17        \n",
            "=================================================================\n",
            "Total params: 130,977\n",
            "Trainable params: 130,977\n",
            "Non-trainable params: 0\n",
            "_________________________________________________________________\n"
          ],
          "name": "stdout"
        }
      ]
    },
    {
      "cell_type": "markdown",
      "metadata": {
        "id": "5qBltW5-OqGF",
        "colab_type": "text"
      },
      "source": [
        "This worked, too. So all that's left to do now is actual training."
      ]
    },
    {
      "cell_type": "code",
      "metadata": {
        "id": "YwlrTDQ5Q-t5",
        "colab_type": "code",
        "outputId": "8eddd028-4ea9-4f37-8db7-d9bc90436f1e",
        "colab": {
          "base_uri": "https://localhost:8080/",
          "height": 357
        }
      },
      "source": [
        "history = model.fit(train_batches, epochs=10, validation_data=test_batches,\n",
        "                    validation_steps=20)"
      ],
      "execution_count": 12,
      "outputs": [
        {
          "output_type": "stream",
          "text": [
            "Epoch 1/10\n",
            "2500/2500 [==============================] - 23s 9ms/step - loss: 0.5280 - accuracy: 0.7948 - val_loss: 0.4513 - val_accuracy: 0.8000\n",
            "Epoch 2/10\n",
            "2500/2500 [==============================] - 15s 6ms/step - loss: 0.3141 - accuracy: 0.8858 - val_loss: 0.3385 - val_accuracy: 0.8600\n",
            "Epoch 3/10\n",
            "2500/2500 [==============================] - 15s 6ms/step - loss: 0.2453 - accuracy: 0.9099 - val_loss: 0.3076 - val_accuracy: 0.8550\n",
            "Epoch 4/10\n",
            "2500/2500 [==============================] - 16s 6ms/step - loss: 0.2085 - accuracy: 0.9234 - val_loss: 0.2806 - val_accuracy: 0.9100\n",
            "Epoch 5/10\n",
            "2500/2500 [==============================] - 17s 7ms/step - loss: 0.1831 - accuracy: 0.9342 - val_loss: 0.3341 - val_accuracy: 0.8900\n",
            "Epoch 6/10\n",
            "2500/2500 [==============================] - 17s 7ms/step - loss: 0.1642 - accuracy: 0.9411 - val_loss: 0.2983 - val_accuracy: 0.9000\n",
            "Epoch 7/10\n",
            "2500/2500 [==============================] - 18s 7ms/step - loss: 0.1486 - accuracy: 0.9476 - val_loss: 0.3744 - val_accuracy: 0.8750\n",
            "Epoch 8/10\n",
            "2500/2500 [==============================] - 17s 7ms/step - loss: 0.1357 - accuracy: 0.9521 - val_loss: 0.2806 - val_accuracy: 0.8900\n",
            "Epoch 9/10\n",
            "2500/2500 [==============================] - 17s 7ms/step - loss: 0.1249 - accuracy: 0.9568 - val_loss: 0.4427 - val_accuracy: 0.8550\n",
            "Epoch 10/10\n",
            "2500/2500 [==============================] - 17s 7ms/step - loss: 0.1150 - accuracy: 0.9608 - val_loss: 0.4508 - val_accuracy: 0.8500\n"
          ],
          "name": "stdout"
        }
      ]
    },
    {
      "cell_type": "code",
      "metadata": {
        "id": "21p8NzrPRLN5",
        "colab_type": "code",
        "colab": {
          "base_uri": "https://localhost:8080/",
          "height": 567
        },
        "outputId": "d647b286-72c6-47f0-a4f9-c005b5ce8da8"
      },
      "source": [
        "plot_history(history)"
      ],
      "execution_count": 13,
      "outputs": [
        {
          "output_type": "display_data",
          "data": {
            "image/png": "[encoded data removed]",
            "text/plain": [
              "<Figure size 864x648 with 1 Axes>"
            ]
          },
          "metadata": {
            "tags": []
          }
        }
      ]
    },
    {
      "cell_type": "markdown",
      "metadata": {
        "id": "uHuIEfexN96t",
        "colab_type": "text"
      },
      "source": [
        "Training accuracy went up over time as is to be expected, while validation does not look too great, to be honest. But this might be expected for such a simple model. We can see that we are overfitting to the data after epoch 8.\n",
        "\n",
        "Finally, let's download the learned embeddings."
      ]
    },
    {
      "cell_type": "code",
      "metadata": {
        "id": "HV9ntwkLTOSZ",
        "colab_type": "code",
        "colab": {}
      },
      "source": [
        "retrieve_embeddings(model, encoder)"
      ],
      "execution_count": 0,
      "outputs": []
    },
    {
      "cell_type": "markdown",
      "metadata": {
        "id": "y8IBhJIhPYac",
        "colab_type": "text"
      },
      "source": [
        "You can go to the [embedding projector](https://projector.tensorflow.org/) to visualize the downloaded word embeddings. Check out the 'Word_embeddings_superb.png' in this Github repo to see what this might look like."
      ]
    },
    {
      "cell_type": "code",
      "metadata": {
        "id": "f_FTo2DjXoXl",
        "colab_type": "code",
        "colab": {}
      },
      "source": [
        ""
      ],
      "execution_count": 0,
      "outputs": []
    }
  ]
}