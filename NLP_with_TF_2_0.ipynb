{
  "nbformat": 4,
  "nbformat_minor": 0,
  "metadata": {
    "colab": {
      "name": "NLP_with_TF_2.0.ipynb",
      "provenance": [],
      "authorship_tag": "ABX9TyP+8+Dic5ac8tEYJUCCVq1U",
      "include_colab_link": true
    },
    "kernelspec": {
      "name": "python3",
      "display_name": "Python 3"
    },
    "accelerator": "TPU"
  },
  "cells": [
    {
      "cell_type": "markdown",
      "metadata": {
        "id": "view-in-github",
        "colab_type": "text"
      },
      "source": [
        "<a href=\"https://colab.research.google.com/github/stefan-stein/NLP_with_TF_2.0/blob/master/NLP_with_TF_2_0.ipynb\" target=\"_parent\"><img src=\"https://colab.research.google.com/assets/colab-badge.svg\" alt=\"Open In Colab\"/></a>"
      ]
    },
    {
      "cell_type": "markdown",
      "metadata": {
        "id": "cpKa5_53UTFB",
        "colab_type": "text"
      },
      "source": [
        "These are my notes for the \"Natural Language Processing with Tensorflow  2 - Beginner's course\" that can be found [here](https://www.youtube.com/watch?v=B2q5cRJvqI8)."
      ]
    },
    {
      "cell_type": "code",
      "metadata": {
        "id": "T1UGUcLET4ho",
        "colab_type": "code",
        "colab": {}
      },
      "source": [
        ""
      ],
      "execution_count": 0,
      "outputs": []
    }
  ]
}